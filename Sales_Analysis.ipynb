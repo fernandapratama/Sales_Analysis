{
  "nbformat": 4,
  "nbformat_minor": 0,
  "metadata": {
    "colab": {
      "name": "Sales Analysis.ipynb",
      "provenance": [],
      "collapsed_sections": []
    },
    "kernelspec": {
      "name": "python3",
      "display_name": "Python 3"
    },
    "language_info": {
      "name": "python"
    }
  },
  "cells": [
    {
      "cell_type": "code",
      "metadata": {
        "colab": {
          "base_uri": "https://localhost:8080/"
        },
        "id": "RdljdwzvA44q",
        "outputId": "f5dd383c-e8b6-4ae5-a8f2-4022f1e766a4"
      },
      "source": [
        "from google.colab import drive\n",
        "drive.mount('/content/drive/')"
      ],
      "execution_count": 1,
      "outputs": [
        {
          "output_type": "stream",
          "name": "stdout",
          "text": [
            "Mounted at /content/drive/\n"
          ]
        }
      ]
    },
    {
      "cell_type": "code",
      "metadata": {
        "colab": {
          "base_uri": "https://localhost:8080/"
        },
        "id": "ijjspyRPBKhG",
        "outputId": "4f210d89-04b4-468c-cb10-0d55fd0a08b7"
      },
      "source": [
        "!mkdir data_sales\n",
        "!unrar e \"/content/drive/MyDrive/Dataset/Sales_Data.rar\" \"/content/data_sales\""
      ],
      "execution_count": 2,
      "outputs": [
        {
          "output_type": "stream",
          "name": "stdout",
          "text": [
            "\n",
            "UNRAR 5.50 freeware      Copyright (c) 1993-2017 Alexander Roshal\n",
            "\n",
            "\n",
            "Extracting from /content/drive/MyDrive/Dataset/Sales_Data.rar\n",
            "\n",
            "Extracting  /content/data_sales/Sales_March_2019.csv                     \b\b\b\b  8%\b\b\b\b\b  OK \n",
            "Extracting  /content/data_sales/Sales_May_2019.csv                       \b\b\b\b 17%\b\b\b\b\b  OK \n",
            "Extracting  /content/data_sales/Sales_November_2019.csv                  \b\b\b\b 26%\b\b\b\b\b  OK \n",
            "Extracting  /content/data_sales/Sales_October_2019.csv                   \b\b\b\b 37%\b\b\b\b\b  OK \n",
            "Extracting  /content/data_sales/Sales_September_2019.csv                 \b\b\b\b 43%\b\b\b\b\b  OK \n",
            "Extracting  /content/data_sales/Sales_April_2019.csv                     \b\b\b\b 53%\b\b\b\b\b  OK \n",
            "Extracting  /content/data_sales/Sales_August_2019.csv                    \b\b\b\b 59%\b\b\b\b\b  OK \n",
            "Extracting  /content/data_sales/Sales_December_2019.csv                  \b\b\b\b 73%\b\b\b\b\b  OK \n",
            "Extracting  /content/data_sales/Sales_February_2019.csv                  \b\b\b\b 79%\b\b\b\b\b  OK \n",
            "Extracting  /content/data_sales/Sales_January_2019.csv                   \b\b\b\b 84%\b\b\b\b\b  OK \n",
            "Extracting  /content/data_sales/Sales_July_2019.csv                      \b\b\b\b 92%\b\b\b\b\b  OK \n",
            "Extracting  /content/data_sales/Sales_June_2019.csv                      \b\b\b\b 99%\b\b\b\b\b  OK \n",
            "All OK\n"
          ]
        }
      ]
    },
    {
      "cell_type": "code",
      "metadata": {
        "id": "-nwrwx9dBzku"
      },
      "source": [
        "import pandas as pd\n",
        "import seaborn as sns\n",
        "import matplotlib.pyplot as plt\n",
        "import os"
      ],
      "execution_count": 3,
      "outputs": []
    },
    {
      "cell_type": "code",
      "metadata": {
        "colab": {
          "base_uri": "https://localhost:8080/",
          "height": 204
        },
        "id": "0er0B0jKB1mu",
        "outputId": "50742f33-f90a-41a3-d1f0-0600ff199d74"
      },
      "source": [
        "path = '/content/data_sales/'\n",
        "\n",
        "name_files = [files for files in os.listdir(path)]\n",
        "sales_df = pd.DataFrame()\n",
        "\n",
        "for names in name_files:\n",
        "    temp = pd.read_csv(path+names)\n",
        "    sales_df = pd.concat([sales_df, temp], ignore_index=True)\n",
        "\n",
        "sales_df.tail()"
      ],
      "execution_count": 4,
      "outputs": [
        {
          "output_type": "execute_result",
          "data": {
            "text/html": [
              "<div>\n",
              "<style scoped>\n",
              "    .dataframe tbody tr th:only-of-type {\n",
              "        vertical-align: middle;\n",
              "    }\n",
              "\n",
              "    .dataframe tbody tr th {\n",
              "        vertical-align: top;\n",
              "    }\n",
              "\n",
              "    .dataframe thead th {\n",
              "        text-align: right;\n",
              "    }\n",
              "</style>\n",
              "<table border=\"1\" class=\"dataframe\">\n",
              "  <thead>\n",
              "    <tr style=\"text-align: right;\">\n",
              "      <th></th>\n",
              "      <th>Order ID</th>\n",
              "      <th>Product</th>\n",
              "      <th>Quantity Ordered</th>\n",
              "      <th>Price Each</th>\n",
              "      <th>Order Date</th>\n",
              "      <th>Purchase Address</th>\n",
              "    </tr>\n",
              "  </thead>\n",
              "  <tbody>\n",
              "    <tr>\n",
              "      <th>186845</th>\n",
              "      <td>150497</td>\n",
              "      <td>20in Monitor</td>\n",
              "      <td>1</td>\n",
              "      <td>109.99</td>\n",
              "      <td>01/26/19 19:09</td>\n",
              "      <td>95 8th St, Dallas, TX 75001</td>\n",
              "    </tr>\n",
              "    <tr>\n",
              "      <th>186846</th>\n",
              "      <td>150498</td>\n",
              "      <td>27in FHD Monitor</td>\n",
              "      <td>1</td>\n",
              "      <td>149.99</td>\n",
              "      <td>01/10/19 22:58</td>\n",
              "      <td>403 7th St, San Francisco, CA 94016</td>\n",
              "    </tr>\n",
              "    <tr>\n",
              "      <th>186847</th>\n",
              "      <td>150499</td>\n",
              "      <td>ThinkPad Laptop</td>\n",
              "      <td>1</td>\n",
              "      <td>999.99</td>\n",
              "      <td>01/21/19 14:31</td>\n",
              "      <td>214 Main St, Portland, OR 97035</td>\n",
              "    </tr>\n",
              "    <tr>\n",
              "      <th>186848</th>\n",
              "      <td>150500</td>\n",
              "      <td>AAA Batteries (4-pack)</td>\n",
              "      <td>2</td>\n",
              "      <td>2.99</td>\n",
              "      <td>01/15/19 14:21</td>\n",
              "      <td>810 2nd St, Los Angeles, CA 90001</td>\n",
              "    </tr>\n",
              "    <tr>\n",
              "      <th>186849</th>\n",
              "      <td>150501</td>\n",
              "      <td>Google Phone</td>\n",
              "      <td>1</td>\n",
              "      <td>600</td>\n",
              "      <td>01/13/19 16:43</td>\n",
              "      <td>428 Cedar St, Boston, MA 02215</td>\n",
              "    </tr>\n",
              "  </tbody>\n",
              "</table>\n",
              "</div>"
            ],
            "text/plain": [
              "       Order ID  ...                     Purchase Address\n",
              "186845   150497  ...          95 8th St, Dallas, TX 75001\n",
              "186846   150498  ...  403 7th St, San Francisco, CA 94016\n",
              "186847   150499  ...      214 Main St, Portland, OR 97035\n",
              "186848   150500  ...    810 2nd St, Los Angeles, CA 90001\n",
              "186849   150501  ...       428 Cedar St, Boston, MA 02215\n",
              "\n",
              "[5 rows x 6 columns]"
            ]
          },
          "metadata": {},
          "execution_count": 4
        }
      ]
    },
    {
      "cell_type": "code",
      "metadata": {
        "colab": {
          "base_uri": "https://localhost:8080/"
        },
        "id": "QE_9jRfZHD2E",
        "outputId": "bf6c0c42-d559-413a-bd81-87f0f3136a44"
      },
      "source": [
        "sales_df.info()"
      ],
      "execution_count": 5,
      "outputs": [
        {
          "output_type": "stream",
          "name": "stdout",
          "text": [
            "<class 'pandas.core.frame.DataFrame'>\n",
            "RangeIndex: 186850 entries, 0 to 186849\n",
            "Data columns (total 6 columns):\n",
            " #   Column            Non-Null Count   Dtype \n",
            "---  ------            --------------   ----- \n",
            " 0   Order ID          186305 non-null  object\n",
            " 1   Product           186305 non-null  object\n",
            " 2   Quantity Ordered  186305 non-null  object\n",
            " 3   Price Each        186305 non-null  object\n",
            " 4   Order Date        186305 non-null  object\n",
            " 5   Purchase Address  186305 non-null  object\n",
            "dtypes: object(6)\n",
            "memory usage: 8.6+ MB\n"
          ]
        }
      ]
    },
    {
      "cell_type": "code",
      "metadata": {
        "id": "bmvyg1rP6Ohl"
      },
      "source": [
        "#sales_df.drop(index=[sales_df.index[211], sales_df.index[241]], inplace=True)\n",
        "#sales_df.reset_index(inplace=True)\n",
        "\n",
        "#sales_df['Quantity Ordered'] = pd.to_numeric(sales_df['Quantity Ordered'])    \n",
        "#sales_df['Price Each'] = pd.to_numeric(sales_df['Price Each'])\n",
        "\n",
        "## OR use (errors='coerce')\n",
        "sales_df['Quantity Ordered'] = pd.to_numeric(sales_df['Quantity Ordered'], errors='coerce')\n",
        "sales_df['Price Each'] = pd.to_numeric(sales_df['Price Each'], errors='coerce')"
      ],
      "execution_count": 6,
      "outputs": []
    },
    {
      "cell_type": "code",
      "metadata": {
        "colab": {
          "base_uri": "https://localhost:8080/"
        },
        "id": "3n4B9_dmDvnU",
        "outputId": "a6c64094-bc03-4144-94d4-19d0bbcf6c69"
      },
      "source": [
        "print(sales_df.isnull().sum())\n",
        "sales_df.dropna(axis=0, how='any', inplace=True)"
      ],
      "execution_count": 7,
      "outputs": [
        {
          "output_type": "stream",
          "name": "stdout",
          "text": [
            "Order ID            545\n",
            "Product             545\n",
            "Quantity Ordered    900\n",
            "Price Each          900\n",
            "Order Date          545\n",
            "Purchase Address    545\n",
            "dtype: int64\n"
          ]
        }
      ]
    },
    {
      "cell_type": "code",
      "metadata": {
        "id": "hwfy2VRyHfcs"
      },
      "source": [
        "sales_df['Order Date'] = pd.to_datetime(sales_df['Order Date'])"
      ],
      "execution_count": 8,
      "outputs": []
    },
    {
      "cell_type": "code",
      "metadata": {
        "colab": {
          "base_uri": "https://localhost:8080/",
          "height": 111
        },
        "id": "3gCuuv05sNmL",
        "outputId": "2091cb68-c78e-4e0b-a395-7ce3d839248c"
      },
      "source": [
        "sales_df.head(2)"
      ],
      "execution_count": 9,
      "outputs": [
        {
          "output_type": "execute_result",
          "data": {
            "text/html": [
              "<div>\n",
              "<style scoped>\n",
              "    .dataframe tbody tr th:only-of-type {\n",
              "        vertical-align: middle;\n",
              "    }\n",
              "\n",
              "    .dataframe tbody tr th {\n",
              "        vertical-align: top;\n",
              "    }\n",
              "\n",
              "    .dataframe thead th {\n",
              "        text-align: right;\n",
              "    }\n",
              "</style>\n",
              "<table border=\"1\" class=\"dataframe\">\n",
              "  <thead>\n",
              "    <tr style=\"text-align: right;\">\n",
              "      <th></th>\n",
              "      <th>Order ID</th>\n",
              "      <th>Product</th>\n",
              "      <th>Quantity Ordered</th>\n",
              "      <th>Price Each</th>\n",
              "      <th>Order Date</th>\n",
              "      <th>Purchase Address</th>\n",
              "    </tr>\n",
              "  </thead>\n",
              "  <tbody>\n",
              "    <tr>\n",
              "      <th>0</th>\n",
              "      <td>236670</td>\n",
              "      <td>Wired Headphones</td>\n",
              "      <td>2.0</td>\n",
              "      <td>11.99</td>\n",
              "      <td>2019-08-31 22:21:00</td>\n",
              "      <td>359 Spruce St, Seattle, WA 98101</td>\n",
              "    </tr>\n",
              "    <tr>\n",
              "      <th>1</th>\n",
              "      <td>236671</td>\n",
              "      <td>Bose SoundSport Headphones</td>\n",
              "      <td>1.0</td>\n",
              "      <td>99.99</td>\n",
              "      <td>2019-08-15 15:11:00</td>\n",
              "      <td>492 Ridge St, Dallas, TX 75001</td>\n",
              "    </tr>\n",
              "  </tbody>\n",
              "</table>\n",
              "</div>"
            ],
            "text/plain": [
              "  Order ID  ...                  Purchase Address\n",
              "0   236670  ...  359 Spruce St, Seattle, WA 98101\n",
              "1   236671  ...    492 Ridge St, Dallas, TX 75001\n",
              "\n",
              "[2 rows x 6 columns]"
            ]
          },
          "metadata": {},
          "execution_count": 9
        }
      ]
    },
    {
      "cell_type": "code",
      "metadata": {
        "colab": {
          "base_uri": "https://localhost:8080/",
          "height": 204
        },
        "id": "NZCtMW-WDtMP",
        "outputId": "ed437dac-cf72-4c0f-a55d-b87bf351d0f6"
      },
      "source": [
        "#sales_df.drop(columns=['index'], inplace=True)\n",
        "sales_df.reset_index(drop=True)\n",
        "#sales_df.set_index(['Order ID'], inplace=True)\n",
        "\n",
        "sales_df['Sales'] = sales_df['Quantity Ordered'] * sales_df['Price Each']\n",
        "sales_df.head()"
      ],
      "execution_count": 10,
      "outputs": [
        {
          "output_type": "execute_result",
          "data": {
            "text/html": [
              "<div>\n",
              "<style scoped>\n",
              "    .dataframe tbody tr th:only-of-type {\n",
              "        vertical-align: middle;\n",
              "    }\n",
              "\n",
              "    .dataframe tbody tr th {\n",
              "        vertical-align: top;\n",
              "    }\n",
              "\n",
              "    .dataframe thead th {\n",
              "        text-align: right;\n",
              "    }\n",
              "</style>\n",
              "<table border=\"1\" class=\"dataframe\">\n",
              "  <thead>\n",
              "    <tr style=\"text-align: right;\">\n",
              "      <th></th>\n",
              "      <th>Order ID</th>\n",
              "      <th>Product</th>\n",
              "      <th>Quantity Ordered</th>\n",
              "      <th>Price Each</th>\n",
              "      <th>Order Date</th>\n",
              "      <th>Purchase Address</th>\n",
              "      <th>Sales</th>\n",
              "    </tr>\n",
              "  </thead>\n",
              "  <tbody>\n",
              "    <tr>\n",
              "      <th>0</th>\n",
              "      <td>236670</td>\n",
              "      <td>Wired Headphones</td>\n",
              "      <td>2.0</td>\n",
              "      <td>11.99</td>\n",
              "      <td>2019-08-31 22:21:00</td>\n",
              "      <td>359 Spruce St, Seattle, WA 98101</td>\n",
              "      <td>23.98</td>\n",
              "    </tr>\n",
              "    <tr>\n",
              "      <th>1</th>\n",
              "      <td>236671</td>\n",
              "      <td>Bose SoundSport Headphones</td>\n",
              "      <td>1.0</td>\n",
              "      <td>99.99</td>\n",
              "      <td>2019-08-15 15:11:00</td>\n",
              "      <td>492 Ridge St, Dallas, TX 75001</td>\n",
              "      <td>99.99</td>\n",
              "    </tr>\n",
              "    <tr>\n",
              "      <th>2</th>\n",
              "      <td>236672</td>\n",
              "      <td>iPhone</td>\n",
              "      <td>1.0</td>\n",
              "      <td>700.00</td>\n",
              "      <td>2019-08-06 14:40:00</td>\n",
              "      <td>149 7th St, Portland, OR 97035</td>\n",
              "      <td>700.00</td>\n",
              "    </tr>\n",
              "    <tr>\n",
              "      <th>3</th>\n",
              "      <td>236673</td>\n",
              "      <td>AA Batteries (4-pack)</td>\n",
              "      <td>2.0</td>\n",
              "      <td>3.84</td>\n",
              "      <td>2019-08-29 20:59:00</td>\n",
              "      <td>631 2nd St, Los Angeles, CA 90001</td>\n",
              "      <td>7.68</td>\n",
              "    </tr>\n",
              "    <tr>\n",
              "      <th>4</th>\n",
              "      <td>236674</td>\n",
              "      <td>AA Batteries (4-pack)</td>\n",
              "      <td>2.0</td>\n",
              "      <td>3.84</td>\n",
              "      <td>2019-08-15 19:53:00</td>\n",
              "      <td>736 14th St, New York City, NY 10001</td>\n",
              "      <td>7.68</td>\n",
              "    </tr>\n",
              "  </tbody>\n",
              "</table>\n",
              "</div>"
            ],
            "text/plain": [
              "  Order ID  ...   Sales\n",
              "0   236670  ...   23.98\n",
              "1   236671  ...   99.99\n",
              "2   236672  ...  700.00\n",
              "3   236673  ...    7.68\n",
              "4   236674  ...    7.68\n",
              "\n",
              "[5 rows x 7 columns]"
            ]
          },
          "metadata": {},
          "execution_count": 10
        }
      ]
    },
    {
      "cell_type": "code",
      "metadata": {
        "id": "OIDpdYrwXI6U"
      },
      "source": [
        ""
      ],
      "execution_count": null,
      "outputs": []
    },
    {
      "cell_type": "markdown",
      "metadata": {
        "id": "fz1sBE_7E-B5"
      },
      "source": [
        "#### Question 1: What was the best month for sales? How much was earned that month?"
      ]
    },
    {
      "cell_type": "code",
      "metadata": {
        "colab": {
          "base_uri": "https://localhost:8080/",
          "height": 345
        },
        "id": "rUb6i1JGMlqd",
        "outputId": "e4f5a54b-e819-4d16-dcb8-c71508017ff4"
      },
      "source": [
        "temp = sales_df.groupby(sales_df['Order Date'].dt.strftime('%m'))['Sales'].sum()\n",
        "sales_month = pd.DataFrame(temp)\n",
        "\n",
        "plt.figure(figsize=(10,5))\n",
        "#plt.bar(sales_month.index, sales_month.Sales)\n",
        "sns.lineplot(x=sales_month.index, y=sales_month.Sales)\n",
        "plt.ylabel('Sales')\n",
        "plt.xlabel('Month')\n",
        "plt.grid()\n",
        "plt.show()"
      ],
      "execution_count": 13,
      "outputs": [
        {
          "output_type": "display_data",
          "data": {
            "image/png": "[encoded data removed]",
            "text/plain": [
              "<Figure size 720x360 with 1 Axes>"
            ]
          },
          "metadata": {
            "needs_background": "light"
          }
        }
      ]
    },
    {
      "cell_type": "markdown",
      "metadata": {
        "id": "O1aho6Ozcvsc"
      },
      "source": [
        "#### Question 2: What city sold the most product?"
      ]
    },
    {
      "cell_type": "code",
      "metadata": {
        "id": "rvdpbpFXyWVp",
        "colab": {
          "base_uri": "https://localhost:8080/",
          "height": 204
        },
        "outputId": "4a392c72-91c0-46e5-ffe0-a8a77507d5fa"
      },
      "source": [
        "def get_city(address):\n",
        "    return address.split(',')[1]\n",
        "\n",
        "def get_state(address):\n",
        "    return address.split(',')[2].split(\" \")[1]\n",
        "\n",
        "sales_df[\"City\"] = sales_df[\"Purchase Address\"].apply(lambda x: f'{get_city(x)} ({get_state(x)})')\n",
        "sales_df.head()"
      ],
      "execution_count": 14,
      "outputs": [
        {
          "output_type": "execute_result",
          "data": {
            "text/html": [
              "<div>\n",
              "<style scoped>\n",
              "    .dataframe tbody tr th:only-of-type {\n",
              "        vertical-align: middle;\n",
              "    }\n",
              "\n",
              "    .dataframe tbody tr th {\n",
              "        vertical-align: top;\n",
              "    }\n",
              "\n",
              "    .dataframe thead th {\n",
              "        text-align: right;\n",
              "    }\n",
              "</style>\n",
              "<table border=\"1\" class=\"dataframe\">\n",
              "  <thead>\n",
              "    <tr style=\"text-align: right;\">\n",
              "      <th></th>\n",
              "      <th>Order ID</th>\n",
              "      <th>Product</th>\n",
              "      <th>Quantity Ordered</th>\n",
              "      <th>Price Each</th>\n",
              "      <th>Order Date</th>\n",
              "      <th>Purchase Address</th>\n",
              "      <th>Sales</th>\n",
              "      <th>City</th>\n",
              "    </tr>\n",
              "  </thead>\n",
              "  <tbody>\n",
              "    <tr>\n",
              "      <th>0</th>\n",
              "      <td>236670</td>\n",
              "      <td>Wired Headphones</td>\n",
              "      <td>2.0</td>\n",
              "      <td>11.99</td>\n",
              "      <td>2019-08-31 22:21:00</td>\n",
              "      <td>359 Spruce St, Seattle, WA 98101</td>\n",
              "      <td>23.98</td>\n",
              "      <td>Seattle (WA)</td>\n",
              "    </tr>\n",
              "    <tr>\n",
              "      <th>1</th>\n",
              "      <td>236671</td>\n",
              "      <td>Bose SoundSport Headphones</td>\n",
              "      <td>1.0</td>\n",
              "      <td>99.99</td>\n",
              "      <td>2019-08-15 15:11:00</td>\n",
              "      <td>492 Ridge St, Dallas, TX 75001</td>\n",
              "      <td>99.99</td>\n",
              "      <td>Dallas (TX)</td>\n",
              "    </tr>\n",
              "    <tr>\n",
              "      <th>2</th>\n",
              "      <td>236672</td>\n",
              "      <td>iPhone</td>\n",
              "      <td>1.0</td>\n",
              "      <td>700.00</td>\n",
              "      <td>2019-08-06 14:40:00</td>\n",
              "      <td>149 7th St, Portland, OR 97035</td>\n",
              "      <td>700.00</td>\n",
              "      <td>Portland (OR)</td>\n",
              "    </tr>\n",
              "    <tr>\n",
              "      <th>3</th>\n",
              "      <td>236673</td>\n",
              "      <td>AA Batteries (4-pack)</td>\n",
              "      <td>2.0</td>\n",
              "      <td>3.84</td>\n",
              "      <td>2019-08-29 20:59:00</td>\n",
              "      <td>631 2nd St, Los Angeles, CA 90001</td>\n",
              "      <td>7.68</td>\n",
              "      <td>Los Angeles (CA)</td>\n",
              "    </tr>\n",
              "    <tr>\n",
              "      <th>4</th>\n",
              "      <td>236674</td>\n",
              "      <td>AA Batteries (4-pack)</td>\n",
              "      <td>2.0</td>\n",
              "      <td>3.84</td>\n",
              "      <td>2019-08-15 19:53:00</td>\n",
              "      <td>736 14th St, New York City, NY 10001</td>\n",
              "      <td>7.68</td>\n",
              "      <td>New York City (NY)</td>\n",
              "    </tr>\n",
              "  </tbody>\n",
              "</table>\n",
              "</div>"
            ],
            "text/plain": [
              "  Order ID                     Product  ...   Sales                 City\n",
              "0   236670            Wired Headphones  ...   23.98         Seattle (WA)\n",
              "1   236671  Bose SoundSport Headphones  ...   99.99          Dallas (TX)\n",
              "2   236672                      iPhone  ...  700.00        Portland (OR)\n",
              "3   236673       AA Batteries (4-pack)  ...    7.68     Los Angeles (CA)\n",
              "4   236674       AA Batteries (4-pack)  ...    7.68   New York City (NY)\n",
              "\n",
              "[5 rows x 8 columns]"
            ]
          },
          "metadata": {},
          "execution_count": 14
        }
      ]
    },
    {
      "cell_type": "code",
      "metadata": {
        "colab": {
          "base_uri": "https://localhost:8080/",
          "height": 420
        },
        "id": "PptTsJQuXJ7b",
        "outputId": "ab834766-0a4d-457e-f8a8-d08bc80b6a39"
      },
      "source": [
        "plt.figure(figsize=(10,5))\n",
        "plt.bar(sales_df.City, sales_df.Sales)\n",
        "plt.ylabel('Sales')\n",
        "plt.xlabel('City')\n",
        "plt.xticks(rotation=90)\n",
        "plt.show()"
      ],
      "execution_count": null,
      "outputs": [
        {
          "output_type": "display_data",
          "data": {
            "image/png": "[encoded data removed]",
            "text/plain": [
              "<Figure size 720x360 with 1 Axes>"
            ]
          },
          "metadata": {
            "needs_background": "light"
          }
        }
      ]
    },
    {
      "cell_type": "markdown",
      "metadata": {
        "id": "w5tZ6TfUnYy5"
      },
      "source": [
        "#### Question 3: What time should we display advertisements to maximize likelihood of customer's buying product?"
      ]
    },
    {
      "cell_type": "code",
      "metadata": {
        "colab": {
          "base_uri": "https://localhost:8080/",
          "height": 111
        },
        "id": "P0A06F2IXJ4J",
        "outputId": "3ccf48b3-7ea7-43b2-880a-76b094ed56c5"
      },
      "source": [
        "sales_df['Hour'] = pd.to_datetime(sales_df['Order Date']).dt.hour\n",
        "#sales_df['Minute'] = pd.to_datetime(sales_df['Order Date']).dt.minute\n",
        "sales_df.head(2)"
      ],
      "execution_count": 15,
      "outputs": [
        {
          "output_type": "execute_result",
          "data": {
            "text/html": [
              "<div>\n",
              "<style scoped>\n",
              "    .dataframe tbody tr th:only-of-type {\n",
              "        vertical-align: middle;\n",
              "    }\n",
              "\n",
              "    .dataframe tbody tr th {\n",
              "        vertical-align: top;\n",
              "    }\n",
              "\n",
              "    .dataframe thead th {\n",
              "        text-align: right;\n",
              "    }\n",
              "</style>\n",
              "<table border=\"1\" class=\"dataframe\">\n",
              "  <thead>\n",
              "    <tr style=\"text-align: right;\">\n",
              "      <th></th>\n",
              "      <th>Order ID</th>\n",
              "      <th>Product</th>\n",
              "      <th>Quantity Ordered</th>\n",
              "      <th>Price Each</th>\n",
              "      <th>Order Date</th>\n",
              "      <th>Purchase Address</th>\n",
              "      <th>Sales</th>\n",
              "      <th>City</th>\n",
              "      <th>Hour</th>\n",
              "    </tr>\n",
              "  </thead>\n",
              "  <tbody>\n",
              "    <tr>\n",
              "      <th>0</th>\n",
              "      <td>236670</td>\n",
              "      <td>Wired Headphones</td>\n",
              "      <td>2.0</td>\n",
              "      <td>11.99</td>\n",
              "      <td>2019-08-31 22:21:00</td>\n",
              "      <td>359 Spruce St, Seattle, WA 98101</td>\n",
              "      <td>23.98</td>\n",
              "      <td>Seattle (WA)</td>\n",
              "      <td>22</td>\n",
              "    </tr>\n",
              "    <tr>\n",
              "      <th>1</th>\n",
              "      <td>236671</td>\n",
              "      <td>Bose SoundSport Headphones</td>\n",
              "      <td>1.0</td>\n",
              "      <td>99.99</td>\n",
              "      <td>2019-08-15 15:11:00</td>\n",
              "      <td>492 Ridge St, Dallas, TX 75001</td>\n",
              "      <td>99.99</td>\n",
              "      <td>Dallas (TX)</td>\n",
              "      <td>15</td>\n",
              "    </tr>\n",
              "  </tbody>\n",
              "</table>\n",
              "</div>"
            ],
            "text/plain": [
              "  Order ID                     Product  ...           City  Hour\n",
              "0   236670            Wired Headphones  ...   Seattle (WA)    22\n",
              "1   236671  Bose SoundSport Headphones  ...    Dallas (TX)    15\n",
              "\n",
              "[2 rows x 9 columns]"
            ]
          },
          "metadata": {},
          "execution_count": 15
        }
      ]
    },
    {
      "cell_type": "code",
      "metadata": {
        "colab": {
          "base_uri": "https://localhost:8080/",
          "height": 345
        },
        "id": "lSmEKQzOXJ1B",
        "outputId": "b7db9b19-894c-4fa2-e89c-b52c93688b61"
      },
      "source": [
        "sales_per_hour = sales_df.groupby(['Hour'])['Sales'].sum().reset_index()\n",
        "xx = range(0, len(sales_per_hour))\n",
        "\n",
        "plt.figure(figsize=(10,5))\n",
        "sns.lineplot(x=xx, y=sales_per_hour.Sales)\n",
        "plt.xticks(xx)\n",
        "plt.ylabel('Sales')\n",
        "plt.xlabel('Hour')\n",
        "plt.grid()\n",
        "plt.show()"
      ],
      "execution_count": null,
      "outputs": [
        {
          "output_type": "display_data",
          "data": {
            "image/png": "[encoded data removed]",
            "text/plain": [
              "<Figure size 720x360 with 1 Axes>"
            ]
          },
          "metadata": {
            "needs_background": "light"
          }
        }
      ]
    },
    {
      "cell_type": "markdown",
      "metadata": {
        "id": "ibXcq6m6oNZx"
      },
      "source": [
        "#### Question 4: What products are most often sold together?"
      ]
    },
    {
      "cell_type": "code",
      "metadata": {
        "colab": {
          "base_uri": "https://localhost:8080/",
          "height": 521
        },
        "id": "x4eUaqC5ywKx",
        "outputId": "21caee38-0a70-4f3f-b9cf-5404a339837f"
      },
      "source": [
        "# https://stackoverflow.com/questions/43348194/pandas-select-rows-if-id-appear-several-time\n",
        "sample = sales_df[sales_df['Order ID'].duplicated(keep=False)]\n",
        "\n",
        "# Referenced: https://stackoverflow.com/questions/27298178/concatenate-strings-from-several-rows-using-pandas-groupby\n",
        "sample['Grouped'] = sample.groupby(['Order ID'])['Product'].transform(lambda x:\", \".join(x))\n",
        "sample = sample[['Order ID', 'Grouped']].drop_duplicates().reset_index(drop=True)\n",
        "sample"
      ],
      "execution_count": null,
      "outputs": [
        {
          "output_type": "stream",
          "name": "stderr",
          "text": [
            "/usr/local/lib/python3.7/dist-packages/ipykernel_launcher.py:1: SettingWithCopyWarning: \n",
            "A value is trying to be set on a copy of a slice from a DataFrame.\n",
            "Try using .loc[row_indexer,col_indexer] = value instead\n",
            "\n",
            "See the caveats in the documentation: https://pandas.pydata.org/pandas-docs/stable/user_guide/indexing.html#returning-a-view-versus-a-copy\n",
            "  \"\"\"Entry point for launching an IPython kernel.\n"
          ]
        },
        {
          "output_type": "execute_result",
          "data": {
            "text/html": [
              "<div>\n",
              "<style scoped>\n",
              "    .dataframe tbody tr th:only-of-type {\n",
              "        vertical-align: middle;\n",
              "    }\n",
              "\n",
              "    .dataframe tbody tr th {\n",
              "        vertical-align: top;\n",
              "    }\n",
              "\n",
              "    .dataframe thead th {\n",
              "        text-align: right;\n",
              "    }\n",
              "</style>\n",
              "<table border=\"1\" class=\"dataframe\">\n",
              "  <thead>\n",
              "    <tr style=\"text-align: right;\">\n",
              "      <th></th>\n",
              "      <th>Order ID</th>\n",
              "      <th>Grouped</th>\n",
              "    </tr>\n",
              "  </thead>\n",
              "  <tbody>\n",
              "    <tr>\n",
              "      <th>0</th>\n",
              "      <td>236716</td>\n",
              "      <td>AA Batteries (4-pack), USB-C Charging Cable</td>\n",
              "    </tr>\n",
              "    <tr>\n",
              "      <th>1</th>\n",
              "      <td>236729</td>\n",
              "      <td>iPhone, Apple Airpods Headphones</td>\n",
              "    </tr>\n",
              "    <tr>\n",
              "      <th>2</th>\n",
              "      <td>236730</td>\n",
              "      <td>Google Phone, Wired Headphones</td>\n",
              "    </tr>\n",
              "    <tr>\n",
              "      <th>3</th>\n",
              "      <td>236799</td>\n",
              "      <td>Google Phone, Wired Headphones</td>\n",
              "    </tr>\n",
              "    <tr>\n",
              "      <th>4</th>\n",
              "      <td>236829</td>\n",
              "      <td>Vareebadd Phone, USB-C Charging Cable</td>\n",
              "    </tr>\n",
              "    <tr>\n",
              "      <th>...</th>\n",
              "      <td>...</td>\n",
              "      <td>...</td>\n",
              "    </tr>\n",
              "    <tr>\n",
              "      <th>7131</th>\n",
              "      <td>150287</td>\n",
              "      <td>iPhone, Lightning Charging Cable</td>\n",
              "    </tr>\n",
              "    <tr>\n",
              "      <th>7132</th>\n",
              "      <td>150303</td>\n",
              "      <td>iPhone, Lightning Charging Cable</td>\n",
              "    </tr>\n",
              "    <tr>\n",
              "      <th>7133</th>\n",
              "      <td>150323</td>\n",
              "      <td>Google Phone, USB-C Charging Cable, Apple Airp...</td>\n",
              "    </tr>\n",
              "    <tr>\n",
              "      <th>7134</th>\n",
              "      <td>150335</td>\n",
              "      <td>iPhone, Apple Airpods Headphones</td>\n",
              "    </tr>\n",
              "    <tr>\n",
              "      <th>7135</th>\n",
              "      <td>150433</td>\n",
              "      <td>Flatscreen TV, Google Phone</td>\n",
              "    </tr>\n",
              "  </tbody>\n",
              "</table>\n",
              "<p>7136 rows × 2 columns</p>\n",
              "</div>"
            ],
            "text/plain": [
              "     Order ID                                            Grouped\n",
              "0      236716        AA Batteries (4-pack), USB-C Charging Cable\n",
              "1      236729                   iPhone, Apple Airpods Headphones\n",
              "2      236730                     Google Phone, Wired Headphones\n",
              "3      236799                     Google Phone, Wired Headphones\n",
              "4      236829              Vareebadd Phone, USB-C Charging Cable\n",
              "...       ...                                                ...\n",
              "7131   150287                   iPhone, Lightning Charging Cable\n",
              "7132   150303                   iPhone, Lightning Charging Cable\n",
              "7133   150323  Google Phone, USB-C Charging Cable, Apple Airp...\n",
              "7134   150335                   iPhone, Apple Airpods Headphones\n",
              "7135   150433                        Flatscreen TV, Google Phone\n",
              "\n",
              "[7136 rows x 2 columns]"
            ]
          },
          "metadata": {},
          "execution_count": 223
        }
      ]
    },
    {
      "cell_type": "code",
      "metadata": {
        "colab": {
          "base_uri": "https://localhost:8080/"
        },
        "id": "bFHccXqxywFM",
        "outputId": "61867b6d-2bb3-458a-843e-f7e5d3df18ec"
      },
      "source": [
        "# Referenced: https://stackoverflow.com/questions/52195887/counting-unique-pairs-of-numbers-into-a-python-dictionary\n",
        "from itertools import combinations\n",
        "from collections import Counter\n",
        "\n",
        "count = Counter()\n",
        "\n",
        "for row in sample['Grouped']:\n",
        "    row_list = row.split(',')\n",
        "    count.update(Counter(combinations(row_list, 2)))\n",
        "\n",
        "for key,value in count.most_common(10):\n",
        "    print(key, value)"
      ],
      "execution_count": null,
      "outputs": [
        {
          "output_type": "stream",
          "name": "stdout",
          "text": [
            "('iPhone', ' Lightning Charging Cable') 1005\n",
            "('Google Phone', ' USB-C Charging Cable') 987\n",
            "('iPhone', ' Wired Headphones') 447\n",
            "('Google Phone', ' Wired Headphones') 414\n",
            "('Vareebadd Phone', ' USB-C Charging Cable') 361\n",
            "('iPhone', ' Apple Airpods Headphones') 360\n",
            "('Google Phone', ' Bose SoundSport Headphones') 220\n",
            "('Vareebadd Phone', ' Wired Headphones') 143\n",
            "(' USB-C Charging Cable', ' Wired Headphones') 120\n",
            "('Vareebadd Phone', ' Bose SoundSport Headphones') 80\n"
          ]
        }
      ]
    },
    {
      "cell_type": "markdown",
      "metadata": {
        "id": "C3cxarL_52xh"
      },
      "source": [
        "#### Question 5: What product sold the most? Why do you think it sold the most?"
      ]
    },
    {
      "cell_type": "code",
      "metadata": {
        "colab": {
          "base_uri": "https://localhost:8080/",
          "height": 506
        },
        "id": "ggeIGIUcywCn",
        "outputId": "5825173f-46c8-4d4c-84ff-c1d1d11a8fc1"
      },
      "source": [
        "sample = sales_df.groupby(['Product'])['Quantity Ordered'].sum().reset_index()\n",
        "prices = sales_df.groupby(['Product']).mean()['Price Each']\n",
        "\n",
        "plt.figure(figsize=(10,5))\n",
        "plt.bar(sample.Product, sample['Quantity Ordered'], color='b', alpha=.5, label='Quantity Ordered')\n",
        "plt.plot(sample.Product, prices, color='r', label='Prices')\n",
        "\n",
        "plt.xlabel('Product')\n",
        "plt.legend()\n",
        "plt.xticks(sample.Product, rotation='vertical', size=12)\n",
        "plt.show()"
      ],
      "execution_count": 16,
      "outputs": [
        {
          "output_type": "display_data",
          "data": {
            "image/png": "[encoded data removed]",
            "text/plain": [
              "<Figure size 720x360 with 1 Axes>"
            ]
          },
          "metadata": {
            "needs_background": "light"
          }
        }
      ]
    },
    {
      "cell_type": "code",
      "metadata": {
        "id": "-ktiJNSr9k2W"
      },
      "source": [
        ""
      ],
      "execution_count": null,
      "outputs": []
    },
    {
      "cell_type": "code",
      "metadata": {
        "id": "wsKKg0q_5uyn",
        "colab": {
          "base_uri": "https://localhost:8080/",
          "height": 306
        },
        "outputId": "ebc00353-431d-4bfb-b6cd-3dbabdd28d21"
      },
      "source": [
        "sales_df.to_csv('sales_df.csv',index = True)\n",
        "sales_df.head()"
      ],
      "execution_count": 17,
      "outputs": [
        {
          "output_type": "execute_result",
          "data": {
            "text/html": [
              "<div>\n",
              "<style scoped>\n",
              "    .dataframe tbody tr th:only-of-type {\n",
              "        vertical-align: middle;\n",
              "    }\n",
              "\n",
              "    .dataframe tbody tr th {\n",
              "        vertical-align: top;\n",
              "    }\n",
              "\n",
              "    .dataframe thead th {\n",
              "        text-align: right;\n",
              "    }\n",
              "</style>\n",
              "<table border=\"1\" class=\"dataframe\">\n",
              "  <thead>\n",
              "    <tr style=\"text-align: right;\">\n",
              "      <th></th>\n",
              "      <th>Order ID</th>\n",
              "      <th>Product</th>\n",
              "      <th>Quantity Ordered</th>\n",
              "      <th>Price Each</th>\n",
              "      <th>Order Date</th>\n",
              "      <th>Purchase Address</th>\n",
              "      <th>Sales</th>\n",
              "      <th>City</th>\n",
              "      <th>Hour</th>\n",
              "    </tr>\n",
              "  </thead>\n",
              "  <tbody>\n",
              "    <tr>\n",
              "      <th>0</th>\n",
              "      <td>236670</td>\n",
              "      <td>Wired Headphones</td>\n",
              "      <td>2.0</td>\n",
              "      <td>11.99</td>\n",
              "      <td>2019-08-31 22:21:00</td>\n",
              "      <td>359 Spruce St, Seattle, WA 98101</td>\n",
              "      <td>23.98</td>\n",
              "      <td>Seattle (WA)</td>\n",
              "      <td>22</td>\n",
              "    </tr>\n",
              "    <tr>\n",
              "      <th>1</th>\n",
              "      <td>236671</td>\n",
              "      <td>Bose SoundSport Headphones</td>\n",
              "      <td>1.0</td>\n",
              "      <td>99.99</td>\n",
              "      <td>2019-08-15 15:11:00</td>\n",
              "      <td>492 Ridge St, Dallas, TX 75001</td>\n",
              "      <td>99.99</td>\n",
              "      <td>Dallas (TX)</td>\n",
              "      <td>15</td>\n",
              "    </tr>\n",
              "    <tr>\n",
              "      <th>2</th>\n",
              "      <td>236672</td>\n",
              "      <td>iPhone</td>\n",
              "      <td>1.0</td>\n",
              "      <td>700.00</td>\n",
              "      <td>2019-08-06 14:40:00</td>\n",
              "      <td>149 7th St, Portland, OR 97035</td>\n",
              "      <td>700.00</td>\n",
              "      <td>Portland (OR)</td>\n",
              "      <td>14</td>\n",
              "    </tr>\n",
              "    <tr>\n",
              "      <th>3</th>\n",
              "      <td>236673</td>\n",
              "      <td>AA Batteries (4-pack)</td>\n",
              "      <td>2.0</td>\n",
              "      <td>3.84</td>\n",
              "      <td>2019-08-29 20:59:00</td>\n",
              "      <td>631 2nd St, Los Angeles, CA 90001</td>\n",
              "      <td>7.68</td>\n",
              "      <td>Los Angeles (CA)</td>\n",
              "      <td>20</td>\n",
              "    </tr>\n",
              "    <tr>\n",
              "      <th>4</th>\n",
              "      <td>236674</td>\n",
              "      <td>AA Batteries (4-pack)</td>\n",
              "      <td>2.0</td>\n",
              "      <td>3.84</td>\n",
              "      <td>2019-08-15 19:53:00</td>\n",
              "      <td>736 14th St, New York City, NY 10001</td>\n",
              "      <td>7.68</td>\n",
              "      <td>New York City (NY)</td>\n",
              "      <td>19</td>\n",
              "    </tr>\n",
              "  </tbody>\n",
              "</table>\n",
              "</div>"
            ],
            "text/plain": [
              "  Order ID                     Product  ...                 City  Hour\n",
              "0   236670            Wired Headphones  ...         Seattle (WA)    22\n",
              "1   236671  Bose SoundSport Headphones  ...          Dallas (TX)    15\n",
              "2   236672                      iPhone  ...        Portland (OR)    14\n",
              "3   236673       AA Batteries (4-pack)  ...     Los Angeles (CA)    20\n",
              "4   236674       AA Batteries (4-pack)  ...   New York City (NY)    19\n",
              "\n",
              "[5 rows x 9 columns]"
            ]
          },
          "metadata": {},
          "execution_count": 17
        }
      ]
    }
  ]
}